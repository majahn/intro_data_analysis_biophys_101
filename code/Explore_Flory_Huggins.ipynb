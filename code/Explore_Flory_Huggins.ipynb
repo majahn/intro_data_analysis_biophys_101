{
  "nbformat": 4,
  "nbformat_minor": 0,
  "metadata": {
    "colab": {
      "name": "Explore Flory-Huggins.ipynb",
      "provenance": [],
      "authorship_tag": "ABX9TyMo9Ax1xYiNMCdxWlZyfGlu",
      "include_colab_link": true
    },
    "kernelspec": {
      "name": "python3",
      "display_name": "Python 3"
    }
  },
  "cells": [
    {
      "cell_type": "markdown",
      "metadata": {
        "id": "view-in-github",
        "colab_type": "text"
      },
      "source": [
        "<a href=\"https://colab.research.google.com/github/majahn/intro_data_analysis_biophys_101/blob/main/code/Explore_Flory_Huggins.ipynb\" target=\"_parent\"><img src=\"https://colab.research.google.com/assets/colab-badge.svg\" alt=\"Open In Colab\"/></a>"
      ]
    },
    {
      "cell_type": "markdown",
      "metadata": {
        "id": "ZaFbHMBWjPPd"
      },
      "source": [
        "## Explore Flory-Huggins\n",
        "\n",
        "Is for a binary fluid, where lattice sites are occupied by either a **solvent** or a **solute** molecule.\n",
        "$$\n",
        "\\frac{F}{kT} = \\phi \\ln\\phi + (1-\\phi)\\ln(1-\\phi) + \\chi\\phi(1 - \\phi)\n",
        "$$\n",
        "\n",
        "where $\\phi = \\frac{N_{\\mathrm{solvent}}}{N_{total}}$"
      ]
    },
    {
      "cell_type": "markdown",
      "metadata": {
        "id": "ZMycWN7wpoRW"
      },
      "source": [
        "### Recap Entropy\n",
        "\n",
        "$$\n",
        "S = - \\sum p_n \\ln p_n\n",
        "$$\n",
        "\n",
        "$$ \n",
        "y = x^2\n",
        "$$"
      ]
    },
    {
      "cell_type": "code",
      "metadata": {
        "id": "MyBCN8i5pnmC"
      },
      "source": [
        "prob_dice = [1/6, 1/6, 1/6, 1/6, 1/6, 1/6 ]\n",
        "prob_coin = [1/2, 1/2]"
      ],
      "execution_count": 12,
      "outputs": []
    },
    {
      "cell_type": "code",
      "metadata": {
        "colab": {
          "base_uri": "https://localhost:8080/"
        },
        "id": "IpGz-U_PrMw-",
        "outputId": "43d10ffd-8e11-472f-f342-253d4b7584fc"
      },
      "source": [
        "-np.sum([p*np.log(p) for p in prob_dice])"
      ],
      "execution_count": 8,
      "outputs": [
        {
          "output_type": "execute_result",
          "data": {
            "text/plain": [
              "1.7917594692280547"
            ]
          },
          "metadata": {
            "tags": []
          },
          "execution_count": 8
        }
      ]
    },
    {
      "cell_type": "code",
      "metadata": {
        "colab": {
          "base_uri": "https://localhost:8080/"
        },
        "id": "Db_Zd6B-qtqB",
        "outputId": "c3902892-fddf-4085-f423-d4e9e18d71cb"
      },
      "source": [
        "# check data type\n",
        "type(prob_dice)"
      ],
      "execution_count": 4,
      "outputs": [
        {
          "output_type": "execute_result",
          "data": {
            "text/plain": [
              "list"
            ]
          },
          "metadata": {
            "tags": []
          },
          "execution_count": 4
        }
      ]
    },
    {
      "cell_type": "code",
      "metadata": {
        "id": "2RyGXa3iqjNQ"
      },
      "source": [
        "# get the right tools\n",
        "\n",
        "import numpy as np\n",
        "import matplotlib.pyplot as plt"
      ],
      "execution_count": 34,
      "outputs": []
    },
    {
      "cell_type": "code",
      "metadata": {
        "id": "uQA7hayXjLzY"
      },
      "source": [
        "def entropy(probabilities):\n",
        "\n",
        "    S = - np.sum([p*np.log(p) for p in probabilities])\n",
        "\n",
        "    return S"
      ],
      "execution_count": 10,
      "outputs": []
    },
    {
      "cell_type": "code",
      "metadata": {
        "colab": {
          "base_uri": "https://localhost:8080/"
        },
        "id": "nKQuracTrrHv",
        "outputId": "90217391-e352-43d9-d4dc-bc65ed4cf1fe"
      },
      "source": [
        "entropy(prob_coin)"
      ],
      "execution_count": 13,
      "outputs": [
        {
          "output_type": "execute_result",
          "data": {
            "text/plain": [
              "0.6931471805599453"
            ]
          },
          "metadata": {
            "tags": []
          },
          "execution_count": 13
        }
      ]
    },
    {
      "cell_type": "markdown",
      "metadata": {
        "id": "Yl6TDeefsOSB"
      },
      "source": [
        "## Test the outrages claim that entropy is max for equal prob"
      ]
    },
    {
      "cell_type": "code",
      "metadata": {
        "id": "E8Mgjz2YsUjy"
      },
      "source": [
        "prob_unfair_coin = [1/4, 3/4]"
      ],
      "execution_count": 15,
      "outputs": []
    },
    {
      "cell_type": "code",
      "metadata": {
        "colab": {
          "base_uri": "https://localhost:8080/"
        },
        "id": "PTeBfOT1slyY",
        "outputId": "0be00eea-3947-4d26-ed9d-8aeb45195486"
      },
      "source": [
        "entropy(prob_unfair_coin)"
      ],
      "execution_count": 16,
      "outputs": [
        {
          "output_type": "execute_result",
          "data": {
            "text/plain": [
              "0.5623351446188083"
            ]
          },
          "metadata": {
            "tags": []
          },
          "execution_count": 16
        }
      ]
    },
    {
      "cell_type": "code",
      "metadata": {
        "id": "Mp7SlVkAsowY"
      },
      "source": [
        "def coin(prob_head = 1/2):\n",
        "\n",
        "    prob_tail = 1 - prob_head\n",
        "\n",
        "    return [prob_head, prob_tail]"
      ],
      "execution_count": 18,
      "outputs": []
    },
    {
      "cell_type": "code",
      "metadata": {
        "colab": {
          "base_uri": "https://localhost:8080/"
        },
        "id": "XD_5Hu_qs-OI",
        "outputId": "8be8dabb-915b-4ebd-d5b5-0ecc0af8d5f0"
      },
      "source": [
        "for i in np.linspace(0.01, 1-0.01, 10):\n",
        "    print(f\"Probabilities of the coin is: {coin(i)}\")\n",
        "    print(f\"Entropy of this distribution is: {entropy(coin(i))}\")\n",
        "    print()\n",
        "    "
      ],
      "execution_count": 26,
      "outputs": [
        {
          "output_type": "stream",
          "text": [
            "Probabilities of the coin is: [0.01, 0.99]\n",
            "Entropy of this distribution is: 0.056001534354847345\n",
            "\n",
            "Probabilities of the coin is: [0.11888888888888888, 0.8811111111111112]\n",
            "Entropy of this distribution is: 0.36470531883113466\n",
            "\n",
            "Probabilities of the coin is: [0.22777777777777777, 0.7722222222222223]\n",
            "Entropy of this distribution is: 0.5365772317788616\n",
            "\n",
            "Probabilities of the coin is: [0.33666666666666667, 0.6633333333333333]\n",
            "Entropy of this distribution is: 0.6387997002523971\n",
            "\n",
            "Probabilities of the coin is: [0.44555555555555554, 0.5544444444444445]\n",
            "Entropy of this distribution is: 0.6872070142910418\n",
            "\n",
            "Probabilities of the coin is: [0.5544444444444444, 0.4455555555555556]\n",
            "Entropy of this distribution is: 0.6872070142910418\n",
            "\n",
            "Probabilities of the coin is: [0.6633333333333333, 0.33666666666666667]\n",
            "Entropy of this distribution is: 0.6387997002523971\n",
            "\n",
            "Probabilities of the coin is: [0.7722222222222221, 0.22777777777777786]\n",
            "Entropy of this distribution is: 0.5365772317788617\n",
            "\n",
            "Probabilities of the coin is: [0.8811111111111111, 0.11888888888888893]\n",
            "Entropy of this distribution is: 0.36470531883113483\n",
            "\n",
            "Probabilities of the coin is: [0.99, 0.010000000000000009]\n",
            "Entropy of this distribution is: 0.056001534354847386\n",
            "\n"
          ],
          "name": "stdout"
        }
      ]
    },
    {
      "cell_type": "code",
      "metadata": {
        "id": "XwRo12JxtoQj"
      },
      "source": [
        "prob_head = np.linspace(0.01, 0.99, 1000)\n",
        "list_of_coins = [coin(i) for i in prob_head]\n",
        "entropies = [entropy(coin) for coin in list_of_coins]"
      ],
      "execution_count": 28,
      "outputs": []
    },
    {
      "cell_type": "code",
      "metadata": {
        "colab": {
          "base_uri": "https://localhost:8080/",
          "height": 312
        },
        "id": "O4oqiMnnusBj",
        "outputId": "403baa08-1548-4739-a0c4-ba0d10ee9e36"
      },
      "source": [
        "plt.plot(prob_head, entropies)\n",
        "plt.xlabel(\"Probability of throwing head\")\n",
        "plt.ylabel(\"Entropy\")\n",
        "plt.title(\"Entropy of different fair and unfair coins\")"
      ],
      "execution_count": 37,
      "outputs": [
        {
          "output_type": "execute_result",
          "data": {
            "text/plain": [
              "Text(0.5, 1.0, 'Entropy of different fair and unfair coins')"
            ]
          },
          "metadata": {
            "tags": []
          },
          "execution_count": 37
        },
        {
          "output_type": "display_data",
          "data": {
            "image/png": "[encoded data removed]",
            "text/plain": [
              "<Figure size 432x288 with 1 Axes>"
            ]
          },
          "metadata": {
            "tags": [],
            "needs_background": "light"
          }
        }
      ]
    },
    {
      "cell_type": "code",
      "metadata": {
        "colab": {
          "base_uri": "https://localhost:8080/"
        },
        "id": "qbwy-VU1ulPl",
        "outputId": "c99dc052-8d0d-459e-ba4e-f9f797d60541"
      },
      "source": [
        "entropies[55]"
      ],
      "execution_count": 31,
      "outputs": [
        {
          "output_type": "execute_result",
          "data": {
            "text/plain": [
              "0.23771112874386569"
            ]
          },
          "metadata": {
            "tags": []
          },
          "execution_count": 31
        }
      ]
    },
    {
      "cell_type": "markdown",
      "metadata": {
        "id": "fCr2mHX3wh3h"
      },
      "source": [
        "### The interaction engergy term of Flory-Huggins\n",
        "\n",
        "$$\n",
        "\\frac{F}{kT} = \\phi \\ln\\phi + (1-\\phi)\\ln(1-\\phi) + \\chi\\phi(1 - \\phi)\n",
        "$$.\n",
        "\n",
        "The interaction energy parameter $\\chi$ is defined as:\n",
        "\n",
        "$$\n",
        "\\chi = \\frac{z}{kT} \\times(u_{ps} - \\frac{1}{2}(u_{ss} + u_{pp}))\n",
        "$$\n",
        "\n",
        "$z$ is the number of neighbours in the lattice. For 2D each molecule has 8 neighbours. In 3D each molecule in this simple cubic lattice has 26 neighbours "
      ]
    },
    {
      "cell_type": "code",
      "metadata": {
        "id": "7H85vYpcwlyA"
      },
      "source": [
        "def chi(u_ss = 1,\n",
        "        u_pp = 1,\n",
        "        u_ps = 1,\n",
        "        z = 26,\n",
        "        kT = 4.11):\n",
        "    \n",
        "    result = z/kT * (u_ps - 0.5*(u_ss + u_pp))\n",
        "\n",
        "    return result"
      ],
      "execution_count": 41,
      "outputs": []
    },
    {
      "cell_type": "code",
      "metadata": {
        "colab": {
          "base_uri": "https://localhost:8080/"
        },
        "id": "zfaRq_5GzKZr",
        "outputId": "83f442b3-8322-4212-c5b5-b36e2db6df04"
      },
      "source": [
        "chi(u_ps = 3, u_pp = 0.4)"
      ],
      "execution_count": 61,
      "outputs": [
        {
          "output_type": "execute_result",
          "data": {
            "text/plain": [
              "14.549878345498781"
            ]
          },
          "metadata": {
            "tags": []
          },
          "execution_count": 61
        }
      ]
    },
    {
      "cell_type": "code",
      "metadata": {
        "id": "Eiphs2WZzUhr"
      },
      "source": [
        "def flory_huggins(phi, chi, kT=4.11):\n",
        "\n",
        "    part_a = phi * np.log(phi)\n",
        "    part_b = (1-phi)*np.log(1 - phi)\n",
        "    part_c = chi * phi * (1-phi)\n",
        "\n",
        "    result = kT * (part_a + part_b + part_c)\n",
        "\n",
        "    return result\n"
      ],
      "execution_count": 45,
      "outputs": []
    },
    {
      "cell_type": "code",
      "metadata": {
        "colab": {
          "base_uri": "https://localhost:8080/"
        },
        "id": "6y7yYjej0eLE",
        "outputId": "6deef906-6b08-4a40-bad1-962ea84956b4"
      },
      "source": [
        "flory_huggins(0.5, chi())\n"
      ],
      "execution_count": 46,
      "outputs": [
        {
          "output_type": "execute_result",
          "data": {
            "text/plain": [
              "-2.8488349121013754"
            ]
          },
          "metadata": {
            "tags": []
          },
          "execution_count": 46
        }
      ]
    },
    {
      "cell_type": "code",
      "metadata": {
        "id": "GShxgqj70kys"
      },
      "source": [
        "phis = np.linspace(0.01, 0.99, 1000)"
      ],
      "execution_count": 51,
      "outputs": []
    },
    {
      "cell_type": "code",
      "metadata": {
        "id": "lcHanQU20sR0"
      },
      "source": [
        "\n",
        "fh_orignial_mixing_no_interactions = [flory_huggins(phi, 0) for phi in phis]\n",
        "fh_2 = [flory_huggins(phi, chi(u_ps = 1, u_pp = 0.4)) for phi in phis]\n",
        "fh_3 = [flory_huggins(phi, chi(u_ps = 1.2, u_pp = 0.4)) for phi in phis]"
      ],
      "execution_count": 77,
      "outputs": []
    },
    {
      "cell_type": "code",
      "metadata": {
        "colab": {
          "base_uri": "https://localhost:8080/",
          "height": 312
        },
        "id": "8KP654Nc1TL7",
        "outputId": "fbaf55ba-4cd3-4a37-a82b-a2db9a37fcb1"
      },
      "source": [
        "plt.plot(phis, fh_orignial_mixing_no_interactions)\n",
        "plt.plot(phis, fh_2)\n",
        "plt.plot(phis, fh_3)\n",
        "plt.xlabel(\"Volume fraction of polymer molecules\")\n",
        "plt.ylabel(\"Free energy\")\n",
        "plt.title(\"Flory-Huggins for phase separation\")"
      ],
      "execution_count": 78,
      "outputs": [
        {
          "output_type": "execute_result",
          "data": {
            "text/plain": [
              "Text(0.5, 1.0, 'Flory-Huggins for phase separation')"
            ]
          },
          "metadata": {
            "tags": []
          },
          "execution_count": 78
        },
        {
          "output_type": "display_data",
          "data": {
            "image/png": "[encoded data removed]",
            "text/plain": [
              "<Figure size 432x288 with 1 Axes>"
            ]
          },
          "metadata": {
            "tags": [],
            "needs_background": "light"
          }
        }
      ]
    },
    {
      "cell_type": "code",
      "metadata": {
        "id": "z6CHO8Cg1Zwj"
      },
      "source": [
        ""
      ],
      "execution_count": null,
      "outputs": []
    }
  ]
}